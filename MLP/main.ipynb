{
 "cells": [
  {
   "cell_type": "code",
   "execution_count": 24,
   "id": "8b212267",
   "metadata": {},
   "outputs": [],
   "source": [
    "from torch import torch\n",
    "from torchvision import datasets\n",
    "import torch.nn as nn\n",
    "import torch.nn.functional as F\n",
    "import torch.optim as optim\n",
    "from torch.utils.data import TensorDataset, DataLoader, random_split\n",
    "from torchvision import transforms\n",
    "import matplotlib.pyplot as plt\n"
   ]
  },
  {
   "cell_type": "markdown",
   "id": "85a0cdf7",
   "metadata": {},
   "source": [
    "Load Data"
   ]
  },
  {
   "cell_type": "code",
   "execution_count": null,
   "id": "32323d35",
   "metadata": {},
   "outputs": [],
   "source": [
    "bs = 64\n",
    "lr = 0.2\n",
    "epochs = 30"
   ]
  },
  {
   "cell_type": "code",
   "execution_count": null,
   "id": "38c38b67",
   "metadata": {},
   "outputs": [],
   "source": [
    "from pathlib import Path\n",
    "\n",
    "data_dirs = [Path(\"./\"), Path(\"../\")]\n",
    "\n",
    "tf = transforms.Compose([\n",
    "    # 0.1307 is the mean of the MNIST dataset, 0.3081 is the standard deviation\n",
    "    # use flatten(1) to flatten the shape (1, 28, 28) to (784)\n",
    "    transforms.ToTensor(),\n",
    "    transforms.Normalize((0.1307,), (0.3081,)), \n",
    "    transforms.Lambda(lambda x: x.flatten(0))\n",
    "])\n",
    "\n",
    "for data_dir in data_dirs:\n",
    "    if (data_dir / \"MNIST\").exists():\n",
    "        train_data = datasets.MNIST(data_dir, train=True, transform=tf)\n",
    "        test_data = datasets.MNIST(data_dir, train=False, transform=tf)\n",
    "        break\n",
    "else:\n",
    "    train_data = datasets.MNIST(\"./\", train=True, download=True, transform=tf)\n",
    "    test_data = datasets.MNIST(\"./\", train=False, download=True, transform=tf)\n",
    "    \n",
    "g = torch.Generator().manual_seed(42)\n",
    "\n",
    "train_data, val_data = random_split(train_data, [50000, 10000], generator=g)\n",
    "\n",
    "print(train_data[0][0].shape)\n",
    "\n",
    "train_loader = DataLoader(train_data, batch_size=bs, shuffle=True)\n",
    "val_loader = DataLoader(val_data, batch_size=bs*2, shuffle=True)\n",
    "test_loader = DataLoader(test_data, batch_size=bs*2)\n",
    "\n",
    "len(train_data), len(val_data), len(test_data)"
   ]
  },
  {
   "cell_type": "markdown",
   "id": "d687e2a1",
   "metadata": {},
   "source": [
    "Model\n"
   ]
  },
  {
   "cell_type": "code",
   "execution_count": 104,
   "id": "aad7557e",
   "metadata": {},
   "outputs": [],
   "source": [
    "import numpy as np\n",
    "from torch import Tensor\n",
    "\n",
    "loss_func = F.cross_entropy\n",
    "\n",
    "def accuracy(input:Tensor, target:Tensor):\n",
    "    preds = torch.argmax(input, dim=1)\n",
    "    return (preds == target).float().mean()"
   ]
  },
  {
   "cell_type": "code",
   "execution_count": null,
   "id": "9feec709",
   "metadata": {},
   "outputs": [],
   "source": [
    "class Logistic(nn.Module):\n",
    "    def __init__(self):\n",
    "        super().__init__()\n",
    "        self.lin = nn.Linear(784, 10)\n",
    "        \n",
    "    def forward(self, x):\n",
    "        return self.lin(x)\n",
    "    \n",
    "    def evaluate(self, loader:DataLoader): \n",
    "        \"\"\"\n",
    "        Evaluate the model on the given data\n",
    "        return: (loss, accuracy)\n",
    "        \"\"\"\n",
    "        self.eval()\n",
    "        total_loss = 0\n",
    "        total_acc = 0\n",
    "        with torch.no_grad():\n",
    "            for x_batch, y_batch in loader:\n",
    "                preds = self.forward(x_batch)\n",
    "                total_acc += accuracy(preds, y_batch)\n",
    "                total_loss += loss_func(preds, y_batch)\n",
    "        return total_loss / len(loader), total_acc / len(loader)\n"
   ]
  },
  {
   "cell_type": "code",
   "execution_count": null,
   "id": "650c0884",
   "metadata": {},
   "outputs": [],
   "source": [
    "\n",
    "def get_model():\n",
    "    model = Logistic()\n",
    "    return model, optim.SGD(model.parameters(), lr=lr)\n",
    "\n",
    "model, optimizer = get_model()\n",
    "x_batch, y_batch = next(iter(train_loader))\n",
    "print(x_batch.shape, y_batch.shape)\n",
    "preds = model.forward(x_batch)\n",
    "print(preds.shape, y_batch.shape)\n",
    "loss = loss_func(preds, y_batch)\n",
    "print(loss)\n",
    "print(accuracy(preds, y_batch))"
   ]
  },
  {
   "cell_type": "markdown",
   "id": "9919cbd6",
   "metadata": {},
   "source": [
    "Train"
   ]
  },
  {
   "cell_type": "code",
   "execution_count": null,
   "id": "a3b7bf6a",
   "metadata": {},
   "outputs": [],
   "source": [
    "\n",
    "for epoch in range(epochs):\n",
    "    model.train()\n",
    "    for x_batch, y_batch in train_loader:\n",
    "        preds = model.forward(x_batch)\n",
    "        loss = loss_func(preds, y_batch)\n",
    "        loss.backward()\n",
    "        optimizer.step()\n",
    "        optimizer.zero_grad()\n",
    "    \n",
    "    loss, acc = model.evaluate(val_loader)\n",
    "    print(f\"epoch {epoch+1} loss: {loss:.2f}, accuracy: {acc:.2f}\")"
   ]
  },
  {
   "cell_type": "markdown",
   "id": "4fe4c4dd",
   "metadata": {},
   "source": [
    "Test"
   ]
  },
  {
   "cell_type": "code",
   "execution_count": 111,
   "id": "3ef59ae3",
   "metadata": {},
   "outputs": [
    {
     "name": "stdout",
     "output_type": "stream",
     "text": [
      "loss: 2.37, accuracy: 0.12\n"
     ]
    }
   ],
   "source": [
    "loss, acc = model.evaluate(test_loader)\n",
    "print(f\"loss: {loss:.2f}, accuracy: {acc:.2f}\")"
   ]
  }
 ],
 "metadata": {
  "kernelspec": {
   "display_name": ".venv",
   "language": "python",
   "name": "python3"
  },
  "language_info": {
   "codemirror_mode": {
    "name": "ipython",
    "version": 3
   },
   "file_extension": ".py",
   "mimetype": "text/x-python",
   "name": "python",
   "nbconvert_exporter": "python",
   "pygments_lexer": "ipython3",
   "version": "3.9.6"
  }
 },
 "nbformat": 4,
 "nbformat_minor": 5
}
