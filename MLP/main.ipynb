{
 "cells": [
  {
   "cell_type": "code",
   "execution_count": 24,
   "id": "8b212267",
   "metadata": {},
   "outputs": [],
   "source": [
    "from torch import torch\n",
    "from torchvision import datasets\n",
    "import torch.nn as nn\n",
    "import torch.nn.functional as F\n",
    "import torch.optim as optim\n",
    "from torch.utils.data import TensorDataset, DataLoader, random_split\n",
    "from torchvision import transforms\n",
    "import matplotlib.pyplot as plt\n"
   ]
  },
  {
   "cell_type": "markdown",
   "id": "85a0cdf7",
   "metadata": {},
   "source": [
    "Load Data"
   ]
  },
  {
   "cell_type": "code",
   "execution_count": null,
   "id": "32323d35",
   "metadata": {},
   "outputs": [],
   "source": [
    "bs = 64\n",
    "lr = 0.2\n",
    "epochs = 30"
   ]
  },
  {
   "cell_type": "code",
   "execution_count": null,
   "id": "38c38b67",
   "metadata": {},
   "outputs": [
    {
     "name": "stdout",
     "output_type": "stream",
     "text": [
      "torch.Size([784])\n"
     ]
    },
    {
     "data": {
      "text/plain": [
       "(50000, 10000, 10000)"
      ]
     },
     "execution_count": 88,
     "metadata": {},
     "output_type": "execute_result"
    }
   ],
   "source": [
    "from pathlib import Path\n",
    "\n",
    "data_dirs = [Path(\"./\"), Path(\"../\")]\n",
    "\n",
    "tf = transforms.Compose([\n",
    "    # 0.1307 is the mean of the MNIST dataset, 0.3081 is the standard deviation\n",
    "    # use flatten(1) to flatten the shape (1, 28, 28) to (784)\n",
    "    transforms.ToTensor(),\n",
    "    transforms.Normalize((0.1307,), (0.3081,)), \n",
    "    transforms.Lambda(lambda x: x.flatten(0))\n",
    "])\n",
    "\n",
    "for data_dir in data_dirs:\n",
    "    if (data_dir / \"MNIST\").exists():\n",
    "        train_data = datasets.MNIST(data_dir, train=True, transform=tf)\n",
    "        test_data = datasets.MNIST(data_dir, train=False, transform=tf)\n",
    "        break\n",
    "else:\n",
    "    train_data = datasets.MNIST(\"./\", train=True, download=True, transform=tf)\n",
    "    test_data = datasets.MNIST(\"./\", train=False, download=True, transform=tf)\n",
    "    \n",
    "g = torch.Generator().manual_seed(42)\n",
    "\n",
    "train_data, val_data = random_split(train_data, [50000, 10000], generator=g)\n",
    "\n",
    "print(train_data[0][0].shape)\n",
    "\n",
    "train_loader = DataLoader(train_data, batch_size=bs, shuffle=True)\n",
    "val_loader = DataLoader(val_data, batch_size=bs*2, shuffle=True)\n",
    "test_loader = DataLoader(test_data, batch_size=bs*2)\n",
    "\n",
    "len(train_data), len(val_data), len(test_data)"
   ]
  },
  {
   "cell_type": "markdown",
   "id": "d687e2a1",
   "metadata": {},
   "source": [
    "Model\n"
   ]
  },
  {
   "cell_type": "code",
   "execution_count": 76,
   "id": "aad7557e",
   "metadata": {},
   "outputs": [],
   "source": [
    "loss_func = F.cross_entropy\n",
    "\n",
    "def accuracy(input, target):\n",
    "    preds = torch.argmax(input, dim=1)\n",
    "    return (preds == target).float().mean()"
   ]
  },
  {
   "cell_type": "code",
   "execution_count": 77,
   "id": "9feec709",
   "metadata": {},
   "outputs": [],
   "source": [
    "class Logistic(nn.Module):\n",
    "    def __init__(self):\n",
    "        super().__init__()\n",
    "        self.lin = nn.Linear(784, 10)\n",
    "        \n",
    "    def forward(self, x):\n",
    "        return self.lin(x)\n"
   ]
  },
  {
   "cell_type": "code",
   "execution_count": null,
   "id": "650c0884",
   "metadata": {},
   "outputs": [
    {
     "name": "stdout",
     "output_type": "stream",
     "text": [
      "torch.Size([64, 784]) torch.Size([64])\n",
      "torch.Size([64, 10]) torch.Size([64])\n",
      "tensor(2.4183, grad_fn=<NllLossBackward0>)\n",
      "tensor(0.1094)\n"
     ]
    }
   ],
   "source": [
    "\n",
    "def get_model():\n",
    "    model = Logistic()\n",
    "    return model, optim.SGD(model.parameters(), lr=lr)\n",
    "\n",
    "model, optimizer = get_model()\n",
    "x_batch, y_batch = next(iter(train_loader))\n",
    "print(x_batch.shape, y_batch.shape)\n",
    "preds = model.forward(x_batch)\n",
    "print(preds.shape, y_batch.shape)\n",
    "loss = loss_func(preds, y_batch)\n",
    "print(loss)\n",
    "print(accuracy(preds, y_batch))"
   ]
  },
  {
   "cell_type": "markdown",
   "id": "9919cbd6",
   "metadata": {},
   "source": [
    "Train"
   ]
  },
  {
   "cell_type": "code",
   "execution_count": 92,
   "id": "a3b7bf6a",
   "metadata": {},
   "outputs": [
    {
     "name": "stdout",
     "output_type": "stream",
     "text": [
      "epoch 1 loss: 0.99, accuracy: 0.75\n",
      "epoch 2 loss: 0.51, accuracy: 0.87\n",
      "epoch 3 loss: 0.41, accuracy: 0.90\n",
      "epoch 4 loss: 0.82, accuracy: 0.83\n",
      "epoch 5 loss: 0.40, accuracy: 0.90\n",
      "epoch 6 loss: 0.45, accuracy: 0.89\n",
      "epoch 7 loss: 1.17, accuracy: 0.80\n",
      "epoch 8 loss: 0.49, accuracy: 0.88\n",
      "epoch 9 loss: 0.42, accuracy: 0.90\n",
      "epoch 10 loss: 0.51, accuracy: 0.88\n",
      "epoch 11 loss: 0.42, accuracy: 0.90\n",
      "epoch 12 loss: 0.46, accuracy: 0.89\n",
      "epoch 13 loss: 0.51, accuracy: 0.88\n",
      "epoch 14 loss: 0.49, accuracy: 0.88\n",
      "epoch 15 loss: 0.45, accuracy: 0.89\n",
      "epoch 16 loss: 0.52, accuracy: 0.88\n",
      "epoch 17 loss: 0.46, accuracy: 0.89\n",
      "epoch 18 loss: 0.74, accuracy: 0.82\n",
      "epoch 19 loss: 0.79, accuracy: 0.82\n",
      "epoch 20 loss: 0.45, accuracy: 0.89\n",
      "epoch 21 loss: 0.58, accuracy: 0.87\n",
      "epoch 22 loss: 0.57, accuracy: 0.86\n",
      "epoch 23 loss: 0.52, accuracy: 0.88\n",
      "epoch 24 loss: 0.44, accuracy: 0.90\n",
      "epoch 25 loss: 0.49, accuracy: 0.88\n",
      "epoch 26 loss: 0.61, accuracy: 0.87\n",
      "epoch 27 loss: 0.43, accuracy: 0.90\n",
      "epoch 28 loss: 0.84, accuracy: 0.80\n",
      "epoch 29 loss: 0.47, accuracy: 0.89\n",
      "epoch 30 loss: 0.50, accuracy: 0.89\n"
     ]
    }
   ],
   "source": [
    "\n",
    "for epoch in range(epochs):\n",
    "    model.train()\n",
    "    for x_batch, y_batch in train_loader:\n",
    "        preds = model.forward(x_batch)\n",
    "        loss = loss_func(preds, y_batch)\n",
    "        loss.backward()\n",
    "        optimizer.step()\n",
    "        optimizer.zero_grad()\n",
    "\n",
    "    model.eval()\n",
    "    with torch.no_grad():\n",
    "        total_loss = 0\n",
    "        total_acc = 0\n",
    "        for x_batch, y_batch in val_loader:\n",
    "            preds = model.forward(x_batch)\n",
    "            loss = loss_func(preds, y_batch)\n",
    "            total_loss += loss.item()\n",
    "            total_acc += accuracy(preds, y_batch).item()\n",
    "        print(f\"epoch {epoch+1} loss: {total_loss/len(val_loader):.2f}, accuracy: {total_acc/len(val_loader):.2f}\")\n"
   ]
  }
 ],
 "metadata": {
  "kernelspec": {
   "display_name": ".venv",
   "language": "python",
   "name": "python3"
  },
  "language_info": {
   "codemirror_mode": {
    "name": "ipython",
    "version": 3
   },
   "file_extension": ".py",
   "mimetype": "text/x-python",
   "name": "python",
   "nbconvert_exporter": "python",
   "pygments_lexer": "ipython3",
   "version": "3.9.6"
  }
 },
 "nbformat": 4,
 "nbformat_minor": 5
}
