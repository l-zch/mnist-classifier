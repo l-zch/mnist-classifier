{
 "cells": [
  {
   "cell_type": "code",
   "execution_count": 13,
   "id": "8b212267",
   "metadata": {},
   "outputs": [],
   "source": [
    "from torch import torch\n",
    "from torchvision import datasets\n",
    "import torch.nn as nn\n",
    "import torch.nn.functional as F\n",
    "import torch.optim as optim\n",
    "from torch.utils.data import TensorDataset, DataLoader, random_split\n",
    "from torchvision import transforms\n",
    "import matplotlib.pyplot as plt\n"
   ]
  },
  {
   "cell_type": "code",
   "execution_count": null,
   "id": "7b1f4e8e",
   "metadata": {},
   "outputs": [],
   "source": [
    "lr = 0.2\n",
    "bs = 64\n",
    "epochs = 30"
   ]
  },
  {
   "cell_type": "markdown",
   "id": "85a0cdf7",
   "metadata": {},
   "source": [
    "Load Data"
   ]
  },
  {
   "cell_type": "code",
   "execution_count": null,
   "id": "38c38b67",
   "metadata": {},
   "outputs": [],
   "source": [
    "from pathlib import Path\n",
    "\n",
    "data_dirs = [Path(\"./\"), Path(\"../\")]\n",
    "\n",
    "tf = transforms.Compose([\n",
    "    # 0.1307 is the mean of the MNIST dataset, 0.3081 is the standard deviation\n",
    "    # use flatten(1) to flatten the shape (1, 28, 28) to (784)\n",
    "    transforms.ToTensor(),\n",
    "    transforms.Normalize((0.1307,), (0.3081,)), \n",
    "    transforms.Lambda(lambda x: x.flatten(0))\n",
    "])\n",
    "\n",
    "for data_dir in data_dirs:\n",
    "    if (data_dir / \"MNIST\").exists():\n",
    "        train_data = datasets.MNIST(data_dir, train=True, transform=tf)\n",
    "        test_data = datasets.MNIST(data_dir, train=False, transform=tf)\n",
    "        break\n",
    "else:\n",
    "    train_data = datasets.MNIST(\"./\", train=True, download=True, transform=tf)\n",
    "    test_data = datasets.MNIST(\"./\", train=False, download=True, transform=tf)\n",
    "    \n",
    "g = torch.Generator().manual_seed(42)\n",
    "\n",
    "train_data, val_data = random_split(train_data, [50000, 10000], generator=g)\n",
    "\n",
    "train_loader = DataLoader(train_data, batch_size=bs, shuffle=True)\n",
    "val_loader = DataLoader(val_data, batch_size=bs*2, shuffle=True)\n",
    "test_loader = DataLoader(test_data, batch_size=bs*2)"
   ]
  },
  {
   "cell_type": "markdown",
   "id": "d687e2a1",
   "metadata": {},
   "source": [
    "Model\n"
   ]
  },
  {
   "cell_type": "code",
   "execution_count": null,
   "id": "aad7557e",
   "metadata": {},
   "outputs": [],
   "source": [
    "import numpy as np\n",
    "from torch import Tensor\n",
    "\n",
    "loss_func = F.cross_entropy\n",
    "\n",
    "def accuracy(input:Tensor, target:Tensor):\n",
    "    preds = torch.argmax(input, dim=1)\n",
    "    return (preds == target).float().mean()"
   ]
  },
  {
   "cell_type": "code",
   "execution_count": null,
   "id": "9feec709",
   "metadata": {},
   "outputs": [],
   "source": [
    "class MLP(nn.Module):\n",
    "    def __init__(self):\n",
    "        super().__init__()\n",
    "        self.layer1 = nn.Linear(784, 128)\n",
    "        self.layer2 = nn.Linear(128, 10)\n",
    "        \n",
    "    def forward(self, x):\n",
    "        x = F.relu(self.layer1(x))\n",
    "        x = self.layer2(x)\n",
    "        return x\n",
    "    \n",
    "    def evaluate(self, loader:DataLoader): \n",
    "        \"\"\"\n",
    "        Evaluate the model on the given data\n",
    "        return: (loss, accuracy)\n",
    "        \"\"\"\n",
    "        self.eval()\n",
    "        total_loss = 0\n",
    "        total_acc = 0\n",
    "        with torch.no_grad():\n",
    "            for x_batch, y_batch in loader:\n",
    "                preds = self.forward(x_batch)\n",
    "                total_acc += accuracy(preds, y_batch)\n",
    "                total_loss += loss_func(preds, y_batch)\n",
    "        return total_loss / len(loader), total_acc / len(loader)\n"
   ]
  },
  {
   "cell_type": "code",
   "execution_count": 121,
   "id": "650c0884",
   "metadata": {},
   "outputs": [],
   "source": [
    "def get_model():\n",
    "    model = MLP()\n",
    "    return model, optim.SGD(model.parameters(), lr=lr)\n"
   ]
  },
  {
   "cell_type": "markdown",
   "id": "9919cbd6",
   "metadata": {},
   "source": [
    "Train"
   ]
  },
  {
   "cell_type": "code",
   "execution_count": null,
   "id": "a3b7bf6a",
   "metadata": {},
   "outputs": [],
   "source": [
    "def fit(model, optimizer, train_loader, val_loader, epochs):\n",
    "    for epoch in range(epochs):\n",
    "        model.train()\n",
    "        for x_batch, y_batch in train_loader:\n",
    "            preds = model.forward(x_batch)\n",
    "            loss = loss_func(preds, y_batch)\n",
    "            loss.backward()\n",
    "            optimizer.step()\n",
    "            optimizer.zero_grad()\n",
    "        \n",
    "        loss, acc = model.evaluate(val_loader)\n",
    "        print(f\"epoch {epoch+1} loss: {loss:.2f}, accuracy: {acc:.2f}\")\n",
    "\n",
    "model, optimizer = get_model()\n",
    "fit(model, optimizer, train_loader, val_loader, epochs)"
   ]
  },
  {
   "cell_type": "markdown",
   "id": "4fe4c4dd",
   "metadata": {},
   "source": [
    "Test"
   ]
  },
  {
   "cell_type": "code",
   "execution_count": 123,
   "id": "3ef59ae3",
   "metadata": {},
   "outputs": [
    {
     "name": "stdout",
     "output_type": "stream",
     "text": [
      "loss: 0.07, accuracy: 0.9774\n"
     ]
    }
   ],
   "source": [
    "loss, acc = model.evaluate(test_loader)\n",
    "print(f\"loss: {loss:.2f}, accuracy: {acc:.4f}\")"
   ]
  },
  {
   "cell_type": "markdown",
   "id": "0cf47356",
   "metadata": {},
   "source": [
    "|No.|hidden layers|activation function|Batch Size|Optimizer|Learning Rate|Accuracy|\n",
    "|-|-|-|-|-|-|-|\n",
    "| 0 (Logistic) | [] | None | 64 | SGD | 0.2 | 89% |\n",
    "| 1 | [128] | ReLU | 64 | SGD | 0.2 | 98.19% |\n",
    "| 2 | [128] | ReLU | 64 | Adam | 0.001 | 97.93% |\n",
    "| 3 | [128] | Sigmoid | 64 | SGD | 0.2 | 97.74% |"
   ]
  },
  {
   "cell_type": "markdown",
   "id": "c34e7d00",
   "metadata": {},
   "source": []
  }
 ],
 "metadata": {
  "kernelspec": {
   "display_name": ".venv",
   "language": "python",
   "name": "python3"
  },
  "language_info": {
   "codemirror_mode": {
    "name": "ipython",
    "version": 3
   },
   "file_extension": ".py",
   "mimetype": "text/x-python",
   "name": "python",
   "nbconvert_exporter": "python",
   "pygments_lexer": "ipython3",
   "version": "3.9.6"
  }
 },
 "nbformat": 4,
 "nbformat_minor": 5
}
