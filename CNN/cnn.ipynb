{
 "cells": [
  {
   "cell_type": "code",
   "execution_count": 4,
   "id": "8b212267",
   "metadata": {},
   "outputs": [],
   "source": [
    "from torch import torch\n",
    "from torchvision import datasets\n",
    "import torch.nn as nn\n",
    "import torch.nn.functional as F\n",
    "import torch.optim as optim\n",
    "from torch.utils.data import TensorDataset, DataLoader, random_split\n",
    "from torchvision import transforms\n",
    "import matplotlib.pyplot as plt\n"
   ]
  },
  {
   "cell_type": "code",
   "execution_count": 68,
   "id": "7b1f4e8e",
   "metadata": {},
   "outputs": [],
   "source": [
    "lr = 0.02\n",
    "bs = 64\n",
    "epochs = 10"
   ]
  },
  {
   "cell_type": "markdown",
   "id": "85a0cdf7",
   "metadata": {},
   "source": [
    "Load Data"
   ]
  },
  {
   "cell_type": "code",
   "execution_count": 158,
   "id": "38c38b67",
   "metadata": {},
   "outputs": [
    {
     "name": "stdout",
     "output_type": "stream",
     "text": [
      "torch.Size([64, 1, 28, 28])\n"
     ]
    }
   ],
   "source": [
    "from pathlib import Path\n",
    "\n",
    "data_dirs = [Path(\"./\"), Path(\"../\")]\n",
    "\n",
    "tf = transforms.Compose([\n",
    "    # 0.1307 is the mean of the MNIST dataset, 0.3081 is the standard deviation\n",
    "    transforms.ToTensor(),\n",
    "    transforms.Normalize((0.1307,), (0.3081,)), \n",
    "])\n",
    "\n",
    "for data_dir in data_dirs:\n",
    "    if (data_dir / \"MNIST\").exists():\n",
    "        train_data = datasets.MNIST(data_dir, train=True, transform=tf)\n",
    "        test_data = datasets.MNIST(data_dir, train=False, transform=tf)\n",
    "        break\n",
    "else:\n",
    "    train_data = datasets.MNIST(\"./\", train=True, download=True, transform=tf)\n",
    "    test_data = datasets.MNIST(\"./\", train=False, download=True, transform=tf)\n",
    "    \n",
    "g = torch.Generator().manual_seed(42)\n",
    "\n",
    "train_data, val_data = random_split(train_data, [50000, 10000], generator=g)\n",
    "\n",
    "train_loader = DataLoader(train_data, batch_size=bs, shuffle=True)\n",
    "val_loader = DataLoader(val_data, batch_size=bs*2, shuffle=True)\n",
    "test_loader = DataLoader(test_data, batch_size=bs*2)\n",
    "\n",
    "print(next(iter(train_loader))[0].shape)  # (batch_size, channels, height, width)"
   ]
  },
  {
   "cell_type": "markdown",
   "id": "d687e2a1",
   "metadata": {},
   "source": [
    "Model\n"
   ]
  },
  {
   "cell_type": "code",
   "execution_count": 159,
   "id": "aad7557e",
   "metadata": {},
   "outputs": [],
   "source": [
    "import numpy as np\n",
    "from torch import Tensor\n",
    "\n",
    "loss_func = F.cross_entropy\n",
    "\n",
    "def accuracy(input:Tensor, target:Tensor):\n",
    "    preds = torch.argmax(input, dim=1)\n",
    "    return (preds == target).float().mean()"
   ]
  },
  {
   "cell_type": "code",
   "execution_count": null,
   "id": "9feec709",
   "metadata": {},
   "outputs": [],
   "source": [
    "\n",
    "class CNN(nn.Module):\n",
    "    def __init__(self):\n",
    "        super().__init__()\n",
    "        self.conv1 = nn.Conv2d(1, 64, kernel_size=5, stride=1)\n",
    "        self.conv2 = nn.Conv2d(64, 128, kernel_size=3, stride=1)\n",
    "\n",
    "        self.fc1 = nn.Linear(128*5*5, 10)\n",
    "       \n",
    "    def forward(self, x):\n",
    "        x = F.relu(self.conv1(x))\n",
    "        x = F.max_pool2d(x, 2)\n",
    "        x = F.relu(self.conv2(x))\n",
    "        x = F.max_pool2d(x, 2)\n",
    "\n",
    "        x = x.reshape(-1, 128*5*5)\n",
    "        x = self.fc1(x)\n",
    "\n",
    "        return x\n",
    "    \n",
    "    def evaluate(self, loader:DataLoader): \n",
    "        \"\"\"\n",
    "        Evaluate the model on the given data\n",
    "        return: (loss, accuracy)\n",
    "        \"\"\"\n",
    "        self.eval()\n",
    "        total_loss = 0\n",
    "        total_acc = 0\n",
    "        with torch.no_grad():\n",
    "            for x_batch, y_batch in loader:\n",
    "                preds = self.forward(x_batch)\n",
    "                total_acc += accuracy(preds, y_batch)\n",
    "                total_loss += loss_func(preds, y_batch)\n",
    "        return total_loss / len(loader), total_acc / len(loader)\n"
   ]
  },
  {
   "cell_type": "code",
   "execution_count": 161,
   "id": "650c0884",
   "metadata": {},
   "outputs": [],
   "source": [
    "def get_model():\n",
    "    model = CNN()\n",
    "    return model, optim.SGD(model.parameters(), lr=lr, momentum=0.9)"
   ]
  },
  {
   "cell_type": "markdown",
   "id": "9919cbd6",
   "metadata": {},
   "source": [
    "Train"
   ]
  },
  {
   "cell_type": "code",
   "execution_count": 162,
   "id": "a3b7bf6a",
   "metadata": {},
   "outputs": [
    {
     "name": "stdout",
     "output_type": "stream",
     "text": [
      "epoch 1 loss: 0.0758, accuracy: 0.9787\n",
      "epoch 2 loss: 0.0630, accuracy: 0.9808\n",
      "epoch 3 loss: 0.0428, accuracy: 0.9861\n",
      "epoch 4 loss: 0.0449, accuracy: 0.9870\n",
      "epoch 5 loss: 0.0412, accuracy: 0.9885\n",
      "epoch 6 loss: 0.0449, accuracy: 0.9890\n",
      "epoch 7 loss: 0.0393, accuracy: 0.9889\n",
      "epoch 8 loss: 0.0408, accuracy: 0.9897\n",
      "epoch 9 loss: 0.0499, accuracy: 0.9873\n",
      "epoch 10 loss: 0.0404, accuracy: 0.9902\n"
     ]
    }
   ],
   "source": [
    "def fit(model, optimizer, train_loader, val_loader, epochs):\n",
    "    for epoch in range(epochs):\n",
    "        model.train()\n",
    "        for x_batch, y_batch in train_loader:\n",
    "            preds = model.forward(x_batch)\n",
    "            loss = loss_func(preds, y_batch)\n",
    "            loss.backward()\n",
    "            optimizer.step()\n",
    "            optimizer.zero_grad()\n",
    "        \n",
    "        loss, acc = model.evaluate(val_loader)\n",
    "        print(f\"epoch {epoch+1} loss: {loss:.4f}, accuracy: {acc:.4f}\")\n",
    "\n",
    "model, optimizer = get_model()\n",
    "fit(model, optimizer, train_loader, val_loader, epochs)"
   ]
  },
  {
   "cell_type": "markdown",
   "id": "4fe4c4dd",
   "metadata": {},
   "source": [
    "Test"
   ]
  },
  {
   "cell_type": "code",
   "execution_count": 163,
   "id": "3ef59ae3",
   "metadata": {},
   "outputs": [
    {
     "name": "stdout",
     "output_type": "stream",
     "text": [
      "loss: 0.0286, accuracy: 0.9916\n"
     ]
    }
   ],
   "source": [
    "loss, acc = model.evaluate(test_loader)\n",
    "print(f\"loss: {loss:.4f}, accuracy: {acc:.4f}\")"
   ]
  },
  {
   "cell_type": "code",
   "execution_count": null,
   "id": "d96b7876",
   "metadata": {},
   "outputs": [],
   "source": [
    "# save model\n",
    "torch.save(model.state_dict(), \"model5.pth\")\n",
    "\n",
    "# load model\n",
    "model = CNN()\n",
    "model.load_state_dict(torch.load(\"model5.pth\"))\n",
    "loss, acc = model.evaluate(test_loader)\n",
    "print(f\"loss: {loss:.4f}, accuracy: {acc:.4f}\")"
   ]
  },
  {
   "cell_type": "markdown",
   "id": "57cc0dcc",
   "metadata": {},
   "source": [
    "- Conv: convolution layer\n",
    "- FC: fully connected layer\n",
    "- Opt: optimizer\n",
    "- LR: learning rate\n",
    "- M: momentum\n",
    "- E: epochs\n",
    "\n",
    "|No.|Conv|FC|Opt|LR|M|E|Accuracy|\n",
    "|-|-|-|-|-|-|-|-|\n",
    "| 0 | 16->16->10 -> AvgPool (GAP) | [] | SGD | 0.2 | 0.9 | 20 | 96.69% |\n",
    "| 1 | 16->16->10 | [] | SGD | 0.01 | 0 |20| 97.54% |\n",
    "| 2 | 16->16->10 | [16] | SGD | 0.2 | 0 |20| 98.03% |\n",
    "| 3 | 16->16->10 | [16] | SGD | 0.02 | 0.9 |20| 97.91% |\n",
    "| 4 | 32->maxpool(2)->64->maxpool(2) | [16] | SGD | 0.02 | 0.9 |10| 99.05% |\n",
    "| 5 | 64(5x5)->maxpool(2)->128(3x3)->maxpool(2) | [] | SGD | 0.02 | 0.9 |10| 99.16% |"
   ]
  }
 ],
 "metadata": {
  "kernelspec": {
   "display_name": ".venv",
   "language": "python",
   "name": "python3"
  },
  "language_info": {
   "codemirror_mode": {
    "name": "ipython",
    "version": 3
   },
   "file_extension": ".py",
   "mimetype": "text/x-python",
   "name": "python",
   "nbconvert_exporter": "python",
   "pygments_lexer": "ipython3",
   "version": "3.9.6"
  }
 },
 "nbformat": 4,
 "nbformat_minor": 5
}
