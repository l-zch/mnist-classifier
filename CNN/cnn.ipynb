{
 "cells": [
  {
   "cell_type": "code",
   "execution_count": 1,
   "id": "8b212267",
   "metadata": {},
   "outputs": [],
   "source": [
    "from torch import torch\n",
    "from torchvision import datasets\n",
    "import torch.nn as nn\n",
    "import torch.nn.functional as F\n",
    "import torch.optim as optim\n",
    "from torch.utils.data import TensorDataset, DataLoader, random_split\n",
    "from torchvision import transforms\n",
    "import matplotlib.pyplot as plt\n"
   ]
  },
  {
   "cell_type": "markdown",
   "id": "85a0cdf7",
   "metadata": {},
   "source": [
    "Load Data"
   ]
  },
  {
   "cell_type": "code",
   "execution_count": 2,
   "id": "38c38b67",
   "metadata": {},
   "outputs": [],
   "source": [
    "from pathlib import Path\n",
    "\n",
    "data_dirs = [Path(\"./\"), Path(\"../\")]\n",
    "\n",
    "tf = transforms.Compose([\n",
    "    # 0.1307 is the mean of the MNIST dataset, 0.3081 is the standard deviation\n",
    "    transforms.ToTensor(),\n",
    "    transforms.Normalize((0.1307,), (0.3081,)), \n",
    "])\n",
    "\n",
    "for data_dir in data_dirs:\n",
    "    if (data_dir / \"MNIST\").exists():\n",
    "        train_data = datasets.MNIST(data_dir, train=True, transform=tf)\n",
    "        test_data = datasets.MNIST(data_dir, train=False, transform=tf)\n",
    "        break\n",
    "else:\n",
    "    train_data = datasets.MNIST(\"./\", train=True, download=True, transform=tf)\n",
    "    test_data = datasets.MNIST(\"./\", train=False, download=True, transform=tf)\n",
    "    \n",
    "g = torch.Generator().manual_seed(42)\n",
    "\n",
    "train_data, val_data = random_split(train_data, [50000, 10000], generator=g)"
   ]
  },
  {
   "cell_type": "markdown",
   "id": "d687e2a1",
   "metadata": {},
   "source": [
    "Model\n"
   ]
  },
  {
   "cell_type": "code",
   "execution_count": 3,
   "id": "aad7557e",
   "metadata": {},
   "outputs": [],
   "source": [
    "import numpy as np\n",
    "from torch import Tensor\n",
    "\n",
    "loss_func = F.cross_entropy\n",
    "\n",
    "def accuracy(input:Tensor, target:Tensor):\n",
    "    preds = torch.argmax(input, dim=1)\n",
    "    return (preds == target).float().mean()"
   ]
  },
  {
   "cell_type": "code",
   "execution_count": 4,
   "id": "83db2d1c",
   "metadata": {},
   "outputs": [],
   "source": [
    "def fit(model, optimizer, train_loader, val_loader, epochs):\n",
    "    for epoch in range(epochs):\n",
    "        model.train()\n",
    "        for x_batch, y_batch in train_loader:\n",
    "            preds = model.forward(x_batch)\n",
    "            loss = loss_func(preds, y_batch)\n",
    "            loss.backward()\n",
    "            optimizer.step()\n",
    "            optimizer.zero_grad()\n",
    "        \n",
    "        loss, acc = model.evaluate(val_loader)\n",
    "        print(f\"epoch {epoch+1} loss: {loss:.4f}, accuracy: {acc:.4f}\")\n"
   ]
  },
  {
   "cell_type": "code",
   "execution_count": 41,
   "id": "9feec709",
   "metadata": {},
   "outputs": [],
   "source": [
    "\n",
    "class CNN(nn.Module):\n",
    "    def __init__(self):\n",
    "        super().__init__()\n",
    "        self.features = nn.Sequential(\n",
    "            nn.Conv2d(1, 32, kernel_size=3, stride=1),\n",
    "            nn.ReLU(),\n",
    "            nn.MaxPool2d(kernel_size=2),\n",
    "            nn.Conv2d(32, 64, kernel_size=3, stride=1),\n",
    "            nn.ReLU(),\n",
    "            nn.MaxPool2d(kernel_size=2),\n",
    "        )\n",
    "        \n",
    "        self.classifier = nn.Sequential(\n",
    "            nn.Flatten(start_dim=1),\n",
    "            nn.Linear(64*5*5, 10),\n",
    "        )\n",
    "       \n",
    "    def forward(self, x):\n",
    "        x = self.features(x)\n",
    "        x = self.classifier(x)\n",
    "        return x\n",
    "    \n",
    "    def evaluate(self, loader:DataLoader): \n",
    "        \"\"\"\n",
    "        Evaluate the model on the given data\n",
    "        return: (loss, accuracy)\n",
    "        \"\"\"\n",
    "        self.eval()\n",
    "        total_loss = 0\n",
    "        total_acc = 0\n",
    "        with torch.no_grad():\n",
    "            for x_batch, y_batch in loader:\n",
    "                preds = self.forward(x_batch)\n",
    "                total_acc += accuracy(preds, y_batch)\n",
    "                total_loss += loss_func(preds, y_batch)\n",
    "        return total_loss / len(loader), total_acc / len(loader)"
   ]
  },
  {
   "cell_type": "code",
   "execution_count": 42,
   "id": "650c0884",
   "metadata": {},
   "outputs": [],
   "source": [
    "lr = 0.02\n",
    "bs = 64\n",
    "epochs = 10\n",
    "\n",
    "train_loader = DataLoader(train_data, batch_size=bs, shuffle=True)\n",
    "val_loader = DataLoader(val_data, batch_size=bs*2, shuffle=True)\n",
    "test_loader = DataLoader(test_data, batch_size=bs*2)\n",
    "\n",
    "def get_model():\n",
    "    model = CNN()\n",
    "    return model, optim.SGD(model.parameters(), lr=lr, momentum=0.9)"
   ]
  },
  {
   "cell_type": "markdown",
   "id": "9919cbd6",
   "metadata": {},
   "source": [
    "Train"
   ]
  },
  {
   "cell_type": "code",
   "execution_count": null,
   "id": "a3b7bf6a",
   "metadata": {},
   "outputs": [],
   "source": [
    "model, optimizer = get_model()\n",
    "print(next(model.named_modules())[1])\n",
    "print(f\"Params: {sum(p.numel() for p in model.parameters())}\")\n",
    "\n",
    "fit(model, optimizer, train_loader, val_loader, epochs)"
   ]
  },
  {
   "cell_type": "markdown",
   "id": "57cc0dcc",
   "metadata": {},
   "source": [
    "- Conv: convolution layer\n",
    "- FC: fully connected layer\n",
    "- Opt: optimizer\n",
    "- LR: learning rate\n",
    "- M: momentum\n",
    "- E: epochs\n",
    "- Params: number of parameters\n",
    "- Acc: Accuracy on validation dataset\n",
    "\n",
    "|No.|Conv|FC|Opt|LR|M|E|Params|Acc|\n",
    "|-|-|-|-|-|-|-|-|-|\n",
    "| 4 | 32(3x3)->maxpool(2)->64(3x3)->maxpool(2) | [16] | SGD | 0.02 | 0.9 |10| 44602 | 98.72% |\n",
    "| 5 | 64(5x5)->maxpool(2)->128(3x3)->maxpool(2) | [] | SGD | 0.02 | 0.9 |10|107530| 98.90% |\n",
    "| 6 | 32(5x5)->maxpool(2)->64(3x3)->maxpool(2) | [16] | SGD | 0.02 | 0.9 |10|45114 | 98.88% |\n",
    "| 7 | 32(5x5)->maxpool(2)->64(3x3)->maxpool(2) | [] | SGD | 0.02 | 0.9 |10|35338 | 98.98% |\n",
    "| 8 | 32(3x3)->maxpool(2)->64(3x3)->maxpool(2) | [] | SGD | 0.02 | 0.9 |10|34826 | 98.94% |\n",
    "| 9 | 16(5x5)->maxpool(2)->32(3x3)->maxpool(2) | [] | SGD | 0.02 | 0.9 |10|13066 | 98.61% |"
   ]
  },
  {
   "cell_type": "markdown",
   "id": "4fe4c4dd",
   "metadata": {},
   "source": [
    "Save & Test"
   ]
  },
  {
   "cell_type": "code",
   "execution_count": null,
   "id": "d96b7876",
   "metadata": {},
   "outputs": [],
   "source": [
    "# save model\n",
    "model_path = Path(f\"{input(\">> \")}.pth\")\n",
    "if not model_path.exists():\n",
    "    print(next(model.named_modules())[1])\n",
    "    print(f\"Params: {sum(p.numel() for p in model.parameters())}\")\n",
    "    torch.save(model.state_dict(), model_path)\n",
    "else:\n",
    "    print(\"File already exists\")\n",
    "\n",
    "# load model\n",
    "model = CNN()\n",
    "\n",
    "model.load_state_dict(torch.load(model_path))\n",
    "loss, acc = model.evaluate(test_loader)\n",
    "print(f\"loss: {loss:.4f}, accuracy: {acc:.4f}\")"
   ]
  }
 ],
 "metadata": {
  "kernelspec": {
   "display_name": ".venv",
   "language": "python",
   "name": "python3"
  },
  "language_info": {
   "codemirror_mode": {
    "name": "ipython",
    "version": 3
   },
   "file_extension": ".py",
   "mimetype": "text/x-python",
   "name": "python",
   "nbconvert_exporter": "python",
   "pygments_lexer": "ipython3",
   "version": "3.9.6"
  }
 },
 "nbformat": 4,
 "nbformat_minor": 5
}
